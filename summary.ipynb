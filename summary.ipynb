{
 "cells": [
  {
   "cell_type": "markdown",
   "metadata": {},
   "source": [
    "This project was meant to use data analytics and machine learning to analyse and provide insights about the cars in the state of Washington, using the  (Electric_Vehicle_Population_Data.csv) file.\n",
    "The first part of this project was importing the necessary libraries:\n",
    "\n"
   ]
  },
  {
   "cell_type": "code",
   "execution_count": null,
   "metadata": {},
   "outputs": [],
   "source": [
    "import pandas as pd\n",
    "import numpy as np\n",
    "import matplotlib.pyplot as plt\n",
    "from sklearn.model_selection import train_test_split\n",
    "from sklearn.tree import DecisionTreeClassifier\n",
    "from sklearn.preprocessing import LabelEncoder\n",
    "from sklearn.metrics import classification_report"
   ]
  },
  {
   "cell_type": "markdown",
   "metadata": {},
   "source": [
    "Next we will use the pandas library to create the relevant dataframes we will use for data analysis:"
   ]
  },
  {
   "cell_type": "code",
   "execution_count": null,
   "metadata": {},
   "outputs": [],
   "source": [
    "x = pd.read_csv(\"/Users/nolanscherer/Downloads/CS/Projects/EV Project/Electric_Vehicle_Population_Data.csv\")\n",
    "\n",
    "#part 1: visualizing the data \n",
    "#create two dataframes for PHEVs(plug in hybrid electric vehicles) and BEVs (battery elevtric vehicles)\n",
    "batt = x.loc[x[\"Electric Vehicle Type\"] == \"Battery Electric Vehicle (BEV)\"] \n",
    "batt = batt.loc[batt[\"Electric Range\"] > 0]\n",
    "plug = x.loc[x[\"Electric Vehicle Type\"] == \"Plug-in Hybrid Electric Vehicle (PHEV)\"] \n",
    "\n",
    "#remove redundant columns\n",
    "batt.drop(inplace=True, columns=[\"VIN (1-10)\", \"County\", \"State\", \"Postal Code\", 'Make', 'Model', 'DOL Vehicle ID','2020 Census Tract'])\n",
    "plug.drop(inplace=True, columns=[\"VIN (1-10)\", \"County\", \"State\", \"Postal Code\", 'Make', 'Model', 'DOL Vehicle ID','2020 Census Tract'])\n",
    "\n"
   ]
  },
  {
   "cell_type": "markdown",
   "metadata": {},
   "source": [
    "Use the pyplot library to create graphs that describe the data"
   ]
  },
  {
   "cell_type": "code",
   "execution_count": null,
   "metadata": {},
   "outputs": [],
   "source": [
    "\n",
    "plt.scatter(batt[\"Model Year\"], batt[\"Electric Range\"])\n",
    "plt.title(\"Electric range over time of EV vehicles\")\n",
    "plt.xlabel(\"Model Year\")\n",
    "plt.ylabel(\"Electric Range\")\n",
    "\n",
    "z = np.polyfit(batt[\"Model Year\"], batt[\"Electric Range\"],1)\n",
    "p = np.poly1d(z) \n",
    "\n",
    "plt.plot(batt[\"Model Year\"], p(batt[\"Model Year\"]), \"r--\", label='Regression Line')\n",
    "plt.show() #scatterplot\n",
    "\n",
    "\n",
    "city_counts = plug[\"City\"].value_counts()\n",
    "city_proportions = city_counts / len(plug)\n",
    "city_proportions_list = list(city_proportions.items())\n",
    "\n",
    "plt.pie([i[1] for i in city_proportions_list[:20]],labels=[j[0] for j in city_proportions_list[:20]])\n",
    "plt.title(\"top 20 cities in washington for PHEVs\")\n",
    "plt.show() #pie chart\n",
    "\n",
    "\n"
   ]
  },
  {
   "cell_type": "markdown",
   "metadata": {},
   "source": [
    "Finally, use the machine learning tools to create a model that predicts the make of a car given the city, EV type, Electric range, and model year"
   ]
  },
  {
   "cell_type": "code",
   "execution_count": null,
   "metadata": {},
   "outputs": [],
   "source": [
    "\n",
    "relevant = [\"City\", \"Electric Vehicle Type\", \"Electric Range\", \"Model Year\"]\n",
    "df = x[relevant]\n",
    "target = \"Make\"\n",
    "\n",
    "encodedLabels = {}\n",
    "for i in relevant:\n",
    "    le = LabelEncoder()\n",
    "    df[i] = le.fit_transform(df[i])\n",
    "    encodedLabels[i] = le\n",
    "\n",
    "targetLE = LabelEncoder()\n",
    "df[target] = targetLE.fit_transform(x[target])\n",
    "\n",
    "i = df[relevant]\n",
    "j = df[target]\n",
    "i_train, i_test, j_train, j_test = train_test_split(i,j,test_size=0.2, random_state=35)\n",
    "\n",
    "clas=DecisionTreeClassifier()\n",
    "clas.fit(i_train,j_train)\n",
    "\n",
    "j_prediction = clas.predict(i_test)\n",
    "print(classification_report(j_test,j_prediction))\n"
   ]
  }
 ],
 "metadata": {
  "language_info": {
   "name": "python"
  }
 },
 "nbformat": 4,
 "nbformat_minor": 2
}
